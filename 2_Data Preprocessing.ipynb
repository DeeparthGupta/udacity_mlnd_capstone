{
 "cells": [
  {
   "cell_type": "markdown",
   "metadata": {},
   "source": [
    "# Classifying urban sounds using deep learning models.\n",
    "## Data preprocessing\n",
    "### Properties to be normalized:\n",
    "During exploration it was found that the following properties needed normalization:\n",
    " - Audio channel number.\n",
    " - Sample Rate\n",
    " - Bit Depth\n",
    " \n",
    " Much of the preprocessing can be done via Librosa's load() function. The output of this function will be compared against the default parameters of scipy's wavefile library which will output original properties."
   ]
  },
  {
   "cell_type": "code",
   "execution_count": 2,
   "metadata": {
    "ExecuteTime": {
     "end_time": "2020-02-18T08:39:06.528245Z",
     "start_time": "2020-02-18T08:39:06.510293Z"
    }
   },
   "outputs": [
    {
     "ename": "ModuleNotFoundError",
     "evalue": "No module named 'librosa'",
     "output_type": "error",
     "traceback": [
      "\u001b[1;31m---------------------------------------------------------------------------\u001b[0m",
      "\u001b[1;31mModuleNotFoundError\u001b[0m                       Traceback (most recent call last)",
      "\u001b[1;32m<ipython-input-2-edb6962d6792>\u001b[0m in \u001b[0;36m<module>\u001b[1;34m\u001b[0m\n\u001b[1;32m----> 1\u001b[1;33m \u001b[1;32mimport\u001b[0m \u001b[0mlibrosa\u001b[0m\u001b[1;33m\u001b[0m\u001b[1;33m\u001b[0m\u001b[0m\n\u001b[0m\u001b[0;32m      2\u001b[0m \u001b[1;32mfrom\u001b[0m \u001b[0mscipy\u001b[0m\u001b[1;33m.\u001b[0m\u001b[0mio\u001b[0m \u001b[1;32mimport\u001b[0m \u001b[0mwavfile\u001b[0m \u001b[1;32mas\u001b[0m \u001b[0mwav\u001b[0m\u001b[1;33m\u001b[0m\u001b[1;33m\u001b[0m\u001b[0m\n\u001b[0;32m      3\u001b[0m \u001b[1;32mimport\u001b[0m \u001b[0mnumpy\u001b[0m \u001b[1;32mas\u001b[0m \u001b[0mnp\u001b[0m\u001b[1;33m\u001b[0m\u001b[1;33m\u001b[0m\u001b[0m\n\u001b[0;32m      4\u001b[0m \u001b[1;32mimport\u001b[0m \u001b[0mmatplotlib\u001b[0m\u001b[1;33m.\u001b[0m\u001b[0mpyplot\u001b[0m \u001b[1;32mas\u001b[0m \u001b[0mplt\u001b[0m\u001b[1;33m\u001b[0m\u001b[1;33m\u001b[0m\u001b[0m\n\u001b[0;32m      5\u001b[0m \u001b[1;33m\u001b[0m\u001b[0m\n",
      "\u001b[1;31mModuleNotFoundError\u001b[0m: No module named 'librosa'"
     ]
    }
   ],
   "source": [
    "import librosa\n",
    "from scipy.io import wavfile as wav\n",
    "import numpy as np\n",
    "import matplotlib.pyplot as plt\n",
    "\n",
    "\n",
    "def preprocess_file(file):\n",
    "    #sample rate conversion\n",
    "    libro_audio, libro_sr = librosa.load(file)\n",
    "    scipy_sr,scipy_audio = wav.read(file)\n",
    "    print('Original sample rate:',scipy_sr)\n",
    "    print('Resampled rate:',libro_sr)\n",
    "    \n",
    "    #bit depth converstion\n",
    "    print('Original file min/max range: ',np.min(scipy_audio),' to ',np.max(scipy_audio))\n",
    "    print('Resampled file min/max range: ',np.min(libro_audio),' to ',np.max(libro_audio))\n",
    "    \n",
    "    #Combining audio channels\n",
    "    plt.figure(figsize=(12, 4))\n",
    "    plt.plot(scipy_audio)\n",
    "    print('')\n",
    "    plt.figure(figsize=(12, 4))\n",
    "    plt.plot(libro_audio)\n",
    "    plt.show()\n",
    "    \n",
    "    return libro_audio,libro_sr,scipy_audio,scipy_sr\n",
    "    \n",
    "libro_audio,libro_sr,scipy_audio,scipy_sr = preprocess_file('data/UrbanSound8K/audio/fold6/184805-0-0-47.wav')"
   ]
  },
  {
   "cell_type": "markdown",
   "metadata": {},
   "source": [
    "## Feature Extraction\n",
    "As mentioned in the proposal, we will extract [Mel-Frequency Cepstral Coefficients (MFCC)](https://en.wikipedia.org/wiki/Mel-frequency_cepstrum) from the the audio samples. \n",
    "\n",
    "The MFCC summarises the frequency distribution across the window size, so it is possible to analyse both the frequency and time characteristics of the sound. These audio representations will allow us to identify features for classification."
   ]
  },
  {
   "cell_type": "markdown",
   "metadata": {},
   "source": [
    "### Extracting a MFCC"
   ]
  },
  {
   "cell_type": "code",
   "execution_count": 1,
   "metadata": {
    "ExecuteTime": {
     "end_time": "2020-02-18T08:39:00.273545Z",
     "start_time": "2020-02-18T08:38:59.439177Z"
    }
   },
   "outputs": [
    {
     "ename": "NameError",
     "evalue": "name 'librosa' is not defined",
     "output_type": "error",
     "traceback": [
      "\u001b[1;31m---------------------------------------------------------------------------\u001b[0m",
      "\u001b[1;31mNameError\u001b[0m                                 Traceback (most recent call last)",
      "\u001b[1;32m<ipython-input-1-82f851a862ab>\u001b[0m in \u001b[0;36m<module>\u001b[1;34m\u001b[0m\n\u001b[1;32m----> 1\u001b[1;33m \u001b[0mmfccs\u001b[0m \u001b[1;33m=\u001b[0m \u001b[0mlibrosa\u001b[0m\u001b[1;33m.\u001b[0m\u001b[0mfeature\u001b[0m\u001b[1;33m.\u001b[0m\u001b[0mmfcc\u001b[0m\u001b[1;33m(\u001b[0m\u001b[0my\u001b[0m\u001b[1;33m=\u001b[0m\u001b[0mlibro_audio\u001b[0m\u001b[1;33m,\u001b[0m \u001b[0msr\u001b[0m\u001b[1;33m=\u001b[0m\u001b[0mlibro_sr\u001b[0m\u001b[1;33m,\u001b[0m \u001b[0mn_mfcc\u001b[0m\u001b[1;33m=\u001b[0m\u001b[1;36m40\u001b[0m\u001b[1;33m)\u001b[0m\u001b[1;33m\u001b[0m\u001b[1;33m\u001b[0m\u001b[0m\n\u001b[0m\u001b[0;32m      2\u001b[0m \u001b[0mmfccs\u001b[0m \u001b[1;33m=\u001b[0m \u001b[0mlibrosa\u001b[0m\u001b[1;33m.\u001b[0m\u001b[0mamplitude_to_db\u001b[0m\u001b[1;33m(\u001b[0m\u001b[0mmfccs\u001b[0m\u001b[1;33m)\u001b[0m\u001b[1;33m\u001b[0m\u001b[1;33m\u001b[0m\u001b[0m\n\u001b[0;32m      3\u001b[0m \u001b[0mprint\u001b[0m\u001b[1;33m(\u001b[0m\u001b[0mmfccs\u001b[0m\u001b[1;33m.\u001b[0m\u001b[0mshape\u001b[0m\u001b[1;33m)\u001b[0m\u001b[1;33m\u001b[0m\u001b[1;33m\u001b[0m\u001b[0m\n",
      "\u001b[1;31mNameError\u001b[0m: name 'librosa' is not defined"
     ]
    }
   ],
   "source": [
    "mfccs = librosa.feature.mfcc(y=libro_audio, sr=libro_sr, n_mfcc=40)\n",
    "mfccs = librosa.amplitude_to_db(mfccs)\n",
    "print(mfccs.shape)"
   ]
  },
  {
   "cell_type": "code",
   "execution_count": 3,
   "metadata": {
    "scrolled": true
   },
   "outputs": [
    {
     "data": {
      "text/plain": [
       "<matplotlib.axes._subplots.AxesSubplot at 0x1a396617c18>"
      ]
     },
     "execution_count": 3,
     "metadata": {},
     "output_type": "execute_result"
    },
    {
     "data": {
      "image/png": "[encoded data removed]",
      "text/plain": [
       "<Figure size 432x288 with 1 Axes>"
      ]
     },
     "metadata": {
      "needs_background": "light"
     },
     "output_type": "display_data"
    }
   ],
   "source": [
    "import librosa.display\n",
    "librosa.display.specshow(mfccs, sr=libro_sr, x_axis='hz',y_axis='mel')"
   ]
  },
  {
   "cell_type": "markdown",
   "metadata": {},
   "source": [
    "### Loading audio and metadata.\n",
    "The audio files and their corresponding metadata are used to create a dataframe that stores preprocessed audio, corresponding classes and an ordered array of classes such that the position of a class is the same as its class ID."
   ]
  },
  {
   "cell_type": "code",
   "execution_count": 4,
   "metadata": {},
   "outputs": [],
   "source": [
    "import librosa\n",
    "import sys\n",
    "from random import randrange\n",
    "import os\n",
    "\n",
    "def extract_mfcc(index,row):\n",
    "    file = os.path.join(os.path.abspath('data/urbansound8k/audio'),'fold'+str(row[\"fold\"])+'/',str(row[\"slice_file_name\"]))\n",
    "    label =  row['class']\n",
    "    max_padding = 175\n",
    "    try:\n",
    "        audio,sample_rate = librosa.load(file,res_type='kaiser_fast')\n",
    "        #audio = add_noise(audio,noise_factor=0.2)  \n",
    "            \n",
    "    except Exception as e:\n",
    "        print('Error on line {}'.format(sys.exc_info()[-1].tb_lineno), type(e).__name__, e)\n",
    "        return None\n",
    "    \n",
    "    mfccs = librosa.feature.mfcc(y=audio, n_mfcc=40)\n",
    "    pad_width = max_padding - mfccs.shape[1]\n",
    "    mfccs = np.pad(mfccs, pad_width=((0, 0), (0, pad_width)), mode='constant')\n",
    "    \n",
    "    return [mfccs,label]"
   ]
  },
  {
   "cell_type": "code",
   "execution_count": 5,
   "metadata": {},
   "outputs": [
    {
     "data": {
      "application/vnd.jupyter.widget-view+json": {
       "model_id": "",
       "version_major": 2,
       "version_minor": 0
      },
      "text/plain": [
       "HBox(children=(FloatProgress(value=0.0, max=8732.0), HTML(value='')))"
      ]
     },
     "metadata": {},
     "output_type": "display_data"
    },
    {
     "name": "stdout",
     "output_type": "stream",
     "text": [
      "\n",
      "Wall time: 3min 5s\n"
     ]
    }
   ],
   "source": [
    "%%time\n",
    "\n",
    "import pandas as pd\n",
    "import concurrent.futures\n",
    "from tqdm.notebook import tqdm\n",
    "from random import seed,randint\n",
    "\n",
    "#n_samples = 20000\n",
    "\n",
    "seed(2836)\n",
    "metadata = pd.read_csv('data/urbansound8k/metadata/UrbanSound8k.csv')\n",
    "#metadata_extended = pd.DataFrame([metadata.iloc[randint(0,len(metadata.index)-1)] for i in range(n_samples)],columns=metadata.columns)\n",
    "data =[]\n",
    "\n",
    "#multithreaded run of the function\n",
    "with concurrent.futures.ThreadPoolExecutor() as exe:\n",
    "    #lambda function was used to pass multiple args to the function\n",
    "    data = list(tqdm(exe.map(lambda p:extract_mfcc(*p),metadata.iterrows()),total=len(metadata.index),leave=None))"
   ]
  },
  {
   "cell_type": "code",
   "execution_count": 6,
   "metadata": {},
   "outputs": [
    {
     "data": {
      "text/plain": [
       "array(['air_conditioner', 'car_horn', 'children_playing', 'dog_bark',\n",
       "       'drilling', 'engine_idling', 'gun_shot', 'jackhammer', 'siren',\n",
       "       'street_music'], dtype=object)"
      ]
     },
     "execution_count": 6,
     "metadata": {},
     "output_type": "execute_result"
    }
   ],
   "source": [
    "#Slicing metadata and ordering the slice according to class IDs\n",
    "classes_unique = metadata[['classID','class']].drop_duplicates('classID')\n",
    "classes_unique.sort_values(by='classID',inplace=True)\n",
    "classes = np.array(classes_unique['class'])\n",
    "classes"
   ]
  },
  {
   "cell_type": "code",
   "execution_count": 7,
   "metadata": {},
   "outputs": [],
   "source": [
    "#Putting the data into pandas a dataframe\n",
    "dataframe = pd.DataFrame(data,columns=['features', 'class'])"
   ]
  },
  {
   "cell_type": "markdown",
   "metadata": {},
   "source": [
    "### Convert data and labels\n",
    "Categorical text data in the labels is encoded into numerical format because most machine learning models only work on numerical data. The module used here is the `sklearn.preprocessing.LabelEncoder`. The labels are converted to categorical using `keras.utils.to_categorical`. This ensures that the model does not find any mathematical features in the label."
   ]
  },
  {
   "cell_type": "code",
   "execution_count": 8,
   "metadata": {},
   "outputs": [
    {
     "name": "stderr",
     "output_type": "stream",
     "text": [
      "Using TensorFlow backend.\n"
     ]
    }
   ],
   "source": [
    "from sklearn.preprocessing import LabelEncoder\n",
    "from keras.utils import to_categorical\n",
    "\n",
    "X = np.array(dataframe['features'].tolist())\n",
    "y = np.array(dataframe['class'].tolist())\n",
    "\n",
    "encoder = LabelEncoder()\n",
    "cat_y = to_categorical(encoder.fit_transform(y))"
   ]
  },
  {
   "cell_type": "markdown",
   "metadata": {},
   "source": [
    "#### Saving dataset for later use"
   ]
  },
  {
   "cell_type": "code",
   "execution_count": 9,
   "metadata": {},
   "outputs": [
    {
     "name": "stdout",
     "output_type": "stream",
     "text": [
      "Done!\n",
      "Wall time: 584 ms\n"
     ]
    }
   ],
   "source": [
    "%%time\n",
    "\n",
    "out_path = 'data/dataset.npz'\n",
    "try:\n",
    "    np.savez(out_path,features=X,labels=cat_y,classes=classes)\n",
    "except Exception as e:\n",
    "    print(e)\n",
    "else:\n",
    "    print('Done!')"
   ]
  }
 ],
 "metadata": {
  "kernelspec": {
   "display_name": "Python 3",
   "language": "python",
   "name": "python3"
  },
  "language_info": {
   "codemirror_mode": {
    "name": "ipython",
    "version": 3
   },
   "file_extension": ".py",
   "mimetype": "text/x-python",
   "name": "python",
   "nbconvert_exporter": "python",
   "pygments_lexer": "ipython3",
   "version": "3.7.4"
  },
  "varInspector": {
   "cols": {
    "lenName": 16,
    "lenType": 16,
    "lenVar": 40
   },
   "kernels_config": {
    "python": {
     "delete_cmd_postfix": "",
     "delete_cmd_prefix": "del ",
     "library": "var_list.py",
     "varRefreshCmd": "print(var_dic_list())"
    },
    "r": {
     "delete_cmd_postfix": ") ",
     "delete_cmd_prefix": "rm(",
     "library": "var_list.r",
     "varRefreshCmd": "cat(var_dic_list()) "
    }
   },
   "types_to_exclude": [
    "module",
    "function",
    "builtin_function_or_method",
    "instance",
    "_Feature"
   ],
   "window_display": false
  }
 },
 "nbformat": 4,
 "nbformat_minor": 2
}
