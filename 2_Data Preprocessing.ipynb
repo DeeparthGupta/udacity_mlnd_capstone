{
 "cells": [
  {
   "cell_type": "markdown",
   "metadata": {},
   "source": [
    "# Classifying urban sounds using deep learning models.\n",
    "## Data preprocessing\n",
    "### Properties to be normalized:\n",
    "During exploration it was found that the following properties needed normalization:\n",
    " - Audio channel number.\n",
    " - Sample Rate\n",
    " - Bit Depth\n",
    " \n",
    " Much of the preprocessing can be done via Librosa's load() function. The output of this function will be compared against the default parameters of scipy's wavefile library which will output original properties."
   ]
  },
  {
   "cell_type": "code",
   "execution_count": 1,
   "metadata": {},
   "outputs": [
    {
     "name": "stdout",
     "output_type": "stream",
     "text": [
      "Original sample rate: 44100\n",
      "Resampled rate: 22050\n",
      "Original file min/max range:  -17550  to  15878\n",
      "Resampled file min/max range:  -0.46296388  to  0.44511634\n",
      "\n"
     ]
    }
   ],
   "source": [
    "import librosa\n",
    "from scipy.io import wavfile as wav\n",
    "import numpy as np\n",
    "import matplotlib.pyplot as plt\n",
    "\n",
    "\n",
    "\n",
    "def preprocess_file(file):\n",
    "    #sample rate conversion\n",
    "    libro_audio, libro_sr = librosa.load(file)\n",
    "    scipy_sr,scipy_audio = wav.read(file)\n",
    "    print('Original sample rate:',scipy_sr)\n",
    "    print('Resampled rate:',libro_sr)\n",
    "    \n",
    "    #bit depth converstion\n",
    "    print('Original file min/max range: ',np.min(scipy_audio),' to ',np.max(scipy_audio))\n",
    "    print('Resampled file min/max range: ',np.min(libro_audio),' to ',np.max(libro_audio))\n",
    "    \n",
    "    #Combining audio channels\n",
    "    plt.figure(figsize=(12, 4))\n",
    "    plt.plot(scipy_audio)\n",
    "    print('')\n",
    "    plt.figure(figsize=(12, 4))\n",
    "    plt.plot(libro_audio)\n",
    "    \n",
    "    return libro_audio,libro_sr,scipy_audio,scipy_sr\n",
    "    \n",
    "libro_audio,libro_sr,scipy_audio,scipy_sr = preprocess_file('D:/udacity_mlnd_capstone/data/UrbanSound8K/audio/fold8/14386-9-0-6.wav')\n",
    "    "
   ]
  },
  {
   "cell_type": "markdown",
   "metadata": {},
   "source": [
    "## Feature Extraction\n",
    "As mentioned in the proposal, we will extract [Mel-Frequency Cepstral Coefficients (MFCC)](https://en.wikipedia.org/wiki/Mel-frequency_cepstrum) from the the audio samples. \n",
    "\n",
    "The MFCC summarises the frequency distribution across the window size, so it is possible to analyse both the frequency and time characteristics of the sound. These audio representations will allow us to identify features for classification."
   ]
  },
  {
   "cell_type": "markdown",
   "metadata": {},
   "source": [
    "### Extracting a MFCC"
   ]
  },
  {
   "cell_type": "code",
   "execution_count": 2,
   "metadata": {},
   "outputs": [
    {
     "name": "stdout",
     "output_type": "stream",
     "text": [
      "(40, 173)\n"
     ]
    }
   ],
   "source": [
    "mfccs = librosa.feature.mfcc(y=libro_audio, sr=libro_sr, n_mfcc=40)\n",
    "print(mfccs.shape)"
   ]
  },
  {
   "cell_type": "code",
   "execution_count": 3,
   "metadata": {},
   "outputs": [
    {
     "data": {
      "text/plain": [
       "<matplotlib.axes._subplots.AxesSubplot at 0x24461f5db00>"
      ]
     },
     "execution_count": 3,
     "metadata": {},
     "output_type": "execute_result"
    },
    {
     "data": {
      "image/png": "[encoded data removed]",
      "text/plain": [
       "<Figure size 432x288 with 1 Axes>"
      ]
     },
     "metadata": {
      "needs_background": "light"
     },
     "output_type": "display_data"
    }
   ],
   "source": [
    "import librosa.display\n",
    "librosa.display.specshow(mfccs, sr=libro_sr, x_axis='time')"
   ]
  },
  {
   "cell_type": "markdown",
   "metadata": {},
   "source": [
    "### Extracting MFCC's from the dataset\n",
    "The MFCC for each file is extracted and saved into a dataframe along with its label. Their sizes are also normalized since neural networks require fixed sized data."
   ]
  },
  {
   "cell_type": "code",
   "execution_count": 4,
   "metadata": {},
   "outputs": [],
   "source": [
    "#This function extrcts MFCCs for a single file.\n",
    "def extract_features(index,row):\n",
    "    file = os.path.join(os.path.abspath(BASE_PATH+'data/urbansound8k/audio'),'fold'+str(row[\"fold\"])+'/',str(row[\"slice_file_name\"]))\n",
    "    label =  row['class']\n",
    "    max_padding = 175\n",
    "    try:\n",
    "        audio, sr = librosa.load(file, res_type='kaiser_fast') \n",
    "        mfccs = librosa.feature.mfcc(y=audio, sr=sr, n_mfcc=40)\n",
    "        pad_width = max_padding - mfccs.shape[1]\n",
    "        mfccs = np.pad(mfccs, pad_width=((0, 0), (0, pad_width)), mode='constant')\n",
    "        \n",
    "    except Exception as e:\n",
    "        print(e,file)\n",
    "        return None\n",
    "     \n",
    "    return [mfccs,file]\n",
    "        "
   ]
  },
  {
   "cell_type": "code",
   "execution_count": 5,
   "metadata": {},
   "outputs": [
    {
     "name": "stderr",
     "output_type": "stream",
     "text": [
      "100%|██████████████████████████████████████████████████████████████████████████████| 8732/8732 [03:08<00:00, 46.31it/s]"
     ]
    },
    {
     "name": "stdout",
     "output_type": "stream",
     "text": [
      "Wall time: 3min 11s\n"
     ]
    },
    {
     "name": "stderr",
     "output_type": "stream",
     "text": [
      "\n"
     ]
    }
   ],
   "source": [
    "%%time\n",
    "\n",
    "import librosa\n",
    "import os\n",
    "import pandas as pd\n",
    "import concurrent.futures\n",
    "from tqdm import tqdm\n",
    "\n",
    "BASE_PATH = 'D:/udacity_mlnd_capstone/'\n",
    "\n",
    "metadata = pd.read_csv(BASE_PATH+'data/urbansound8k/metadata/UrbanSound8k.csv')\n",
    "features =[]\n",
    "\n",
    "# def get_feature_set(iterator):\n",
    "#     for index, row in tqdm(metadata.iterrows(),total=len(metadata),leave=None,dynamic_cols=True):\n",
    "#         filename = os.path.join(os.path.abspath(BASE_PATH+'data/urbansound8k/audio'),'fold'+str(row[\"fold\"])+'/',str(row[\"slice_file_name\"]))\n",
    "#         label =  row['class']\n",
    "#         data = extract_features(filename)   \n",
    "#         features.append([data,label])\n",
    "\n",
    "with concurrent.futures.ThreadPoolExecutor() as exe:#multithreaded run of the function\n",
    "    #lambda function was used to pass multiple args to the function\n",
    "    features = list(tqdm(exe.map(lambda p:extract_features(*p),metadata.iterrows()),total=len(metadata),leave=None))\n",
    "\n",
    "# Convert into pandas dataframe\n",
    "features_df = pd.DataFrame(features,columns=['features', 'class'])\n"
   ]
  },
  {
   "cell_type": "markdown",
   "metadata": {},
   "source": [
    "### Convert data and labels\n",
    "Categorical text data in the labels is encoded into numerical format because most machine learning models only work on numerical data. The module used here is the `sklearn.preprocessing.LabelEncoder`. The labels are also being designated as categorical using `keras.utils.to_cetegorical`. This ensures that the model does no find any mathematical features."
   ]
  },
  {
   "cell_type": "code",
   "execution_count": 6,
   "metadata": {},
   "outputs": [
    {
     "name": "stderr",
     "output_type": "stream",
     "text": [
      "Using TensorFlow backend.\n"
     ]
    }
   ],
   "source": [
    "from sklearn.preprocessing import LabelEncoder\n",
    "from keras.utils import to_categorical\n",
    "\n",
    "X = np.array(features_df['features'].tolist())\n",
    "y = np.array(features_df['class'].tolist())\n",
    "\n",
    "encoder = LabelEncoder()\n",
    "cat_y = to_categorical(encoder.fit_transform(y))"
   ]
  },
  {
   "cell_type": "markdown",
   "metadata": {},
   "source": [
    "### Serialize and save the dataset for later use"
   ]
  },
  {
   "cell_type": "code",
   "execution_count": 7,
   "metadata": {},
   "outputs": [
    {
     "name": "stdout",
     "output_type": "stream",
     "text": [
      "Saved!\n"
     ]
    }
   ],
   "source": [
    "import pickle\n",
    "\n",
    "PIK = 'data\\\\serial_dataset'\n",
    "contents = [X,cat_y]\n",
    "with open(PIK,'wb') as file:\n",
    "    pickle.dump(contents,file)\n",
    "    print('Saved!')"
   ]
  }
 ],
 "metadata": {
  "kernelspec": {
   "display_name": "Python 3",
   "language": "python",
   "name": "python3"
  },
  "language_info": {
   "codemirror_mode": {
    "name": "ipython",
    "version": 3
   },
   "file_extension": ".py",
   "mimetype": "text/x-python",
   "name": "python",
   "nbconvert_exporter": "python",
   "pygments_lexer": "ipython3",
   "version": "3.7.3"
  }
 },
 "nbformat": 4,
 "nbformat_minor": 2
}
